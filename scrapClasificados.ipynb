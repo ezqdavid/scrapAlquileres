{
 "cells": [
  {
   "cell_type": "markdown",
   "metadata": {},
   "source": [
    "# Sistema de Scrap para Clasificados de Diarios\n",
    "\n",
    "### Objetivo:\n",
    "Preparar y organizar la información obtenida de los clasificados de diario Clarin desde 19.. a 19..\n",
    "\n",
    "### Herramientas Utilizadas:\n",
    "- Python\n",
    "- Tesseract-OCR (pytesseract)\n",
    "- SQLite3 (almacenamiento de la información)\n",
    "- Pandas (organizacion de la información)"
   ]
  },
  {
   "cell_type": "markdown",
   "metadata": {},
   "source": [
    "## Desarrollo"
   ]
  },
  {
   "cell_type": "markdown",
   "metadata": {},
   "source": [
    "### Importación de las librerias y paquetes a utilizar"
   ]
  },
  {
   "cell_type": "code",
   "execution_count": 22,
   "metadata": {},
   "outputs": [],
   "source": [
    "from PIL import Image\n",
    "import pandas as pd\n",
    "import pytesseract\n",
    "import cv2\n",
    "from src.utils.databaseConnection import crearConexion\n",
    "from src.utils import sqlQueries"
   ]
  },
  {
   "cell_type": "markdown",
   "metadata": {},
   "source": [
    "### Preparación de la imagen"
   ]
  },
  {
   "cell_type": "code",
   "execution_count": 23,
   "metadata": {},
   "outputs": [
    {
     "name": "stdout",
     "output_type": "stream",
     "text": [
      "(471, 341, 3)\n",
      "(1413, 1023)\n"
     ]
    },
    {
     "data": {
      "text/plain": [
       "True"
      ]
     },
     "execution_count": 23,
     "metadata": {},
     "output_type": "execute_result"
    }
   ],
   "source": [
    "img = cv2.imread(\"data/import/recorteEjemplo.png\")\n",
    "#Resize the image\n",
    "print(img.shape)\n",
    "\n",
    "scale_percent = 300 # percent of original size\n",
    "width = int(img.shape[1] * scale_percent / 100)\n",
    "height = int(img.shape[0] * scale_percent / 100)\n",
    "dim = (width, height)\n",
    "\n",
    "img = cv2.resize(img, dim, interpolation = cv2.INTER_AREA)\n",
    "#Convert image to grayscale\n",
    "gray = cv2.cvtColor(img, cv2.COLOR_BGR2GRAY)\n",
    "gray = cv2.GaussianBlur(gray, (7,7), 0)\n",
    "\n",
    "\n",
    "#Convert image to black and white\n",
    "new_image = cv2.adaptiveThreshold(gray, 255, cv2.ADAPTIVE_THRESH_GAUSSIAN_C, cv2.THRESH_BINARY, 21, 3)\n",
    "#new_image = cv2.adaptiveThreshold(gray, 255, cv2.ADAPTIVE_THRESH_GAUSSIAN_C, cv2.THRESH_BINARY, 85, 11)\n",
    "print(new_image.shape)\n",
    "\n",
    "cv2.imwrite('data/export/salidaImport.png', new_image) "
   ]
  },
  {
   "cell_type": "markdown",
   "metadata": {},
   "source": [
    "### Scrap de la imagen utilizando Tesseract."
   ]
  },
  {
   "cell_type": "code",
   "execution_count": 24,
   "metadata": {},
   "outputs": [
    {
     "name": "stdout",
     "output_type": "stream",
     "text": [
      "Fuente: \n",
      "\n",
      "P/JUNTA Colpovn 79 p 1° dio 7 2de\n",
      "p/escal 3 umb c/depond y lo a/\n",
      "prof 10-13 hs ir 921-5003 ©\n",
      "\n",
      "“RAMOS: MEJIA 3 amb-tel ap pro\n",
      "Rivadavia 14340 p 12° B\n",
      "\n",
      "- R MEJIA Ja Rivedavia 13242 8”\n",
      "\n",
      "SAN MARTIN 3 amb 55 miil Sar\n",
      ". miento 1821 ver 10-12 15-17 hs\n",
      "\n",
      "5 FE:Y Aguoro 1650 4° 27 a prof\n",
      "amb TE bñoa comp kilch a/acon(\n",
      "helad moa lum v 14-17 SoriCo\n",
      "\n",
      "V.CRESPO Lovalleja 64 8° B 2\n",
      "- AaMmbcoates lav v 14-18 50-2598\n",
      "\n",
      "VILLA CRESPO nuavo 5 amb ca\n",
      "Ue SII mill. Levitt 855-6645\n",
      "\n",
      "yv OLE 2a calla PB 25th Ma avo\n",
      "\n",
      "- A24 Din A-54.500.000 2 eortos. V.\n",
      "?2-12.15-18 F.Prop 797-6246\n",
      "\n",
      "Vv LOPEZ H Yrigoyen y Malrú don\n",
      "t/caza 3 amb 1%p:ftc balciza te- )\n",
      "\n",
      "_ léf lav cto pogo ad 824-2783\n",
      "\n",
      "V.URQUIZA 3 amb ntio txo PORO, ”\n",
      "total 18 meses 51:6509/0322\n",
      "\n",
      "WARNES 73 p 6° 8 nuevo: iIndos 3\n",
      "amb 30.500.000 ver 15-17 hz A\n",
      "\n"
     ]
    }
   ],
   "source": [
    "scrapCrudo = pytesseract.image_to_string(new_image, lang='eng+spa', config='--psm 3 load_system_dawg=false')\n",
    "print('Fuente: \\n')\n",
    "print(scrapCrudo)"
   ]
  },
  {
   "cell_type": "markdown",
   "metadata": {},
   "source": [
    "## Transformación de los datos para la base"
   ]
  },
  {
   "cell_type": "markdown",
   "metadata": {},
   "source": [
    "Estructura de la informacion en la base de datos."
   ]
  },
  {
   "cell_type": "code",
   "execution_count": 25,
   "metadata": {},
   "outputs": [],
   "source": [
    "data = {'barrio': [],\n",
    "        'direccion': [],\n",
    "        'precio': [],\n",
    "        'tipo': [],\n",
    "        'caracteristicas': [],\n",
    "        'otros': []\n",
    "        }"
   ]
  },
  {
   "cell_type": "code",
   "execution_count": 27,
   "metadata": {},
   "outputs": [
    {
     "name": "stdout",
     "output_type": "stream",
     "text": [
      "P/JUNTA Colpovn 79 p 1° dio 7 2de\n",
      "p/escal 3 umb c/depond y lo a/\n",
      "prof 10-13 hs ir 921-5003 ©\n",
      "['3 umb', 'c/depond', 'y', 'lo', 'a/', 'prof', '10-13 hs', 'ir', '921-5003 ©']\n",
      "    barrio direccion precio    tipo caracteristicas    otros\n",
      "0  P/JUNTA   Colpovn   79 p  1° dio           7 2de  p/escal\n",
      "1  P/JUNTA   Colpovn   79 p  1° dio           7 2de  p/escal\n"
     ]
    }
   ],
   "source": [
    "separadoPorEspacios = scrapCrudo.split('\\n\\n')\n",
    "\n",
    "primerAviso = separadoPorEspacios[0]\n",
    "print(primerAviso)\n",
    "primerAvisoPorEspacios = primerAviso.replace('\\n', ' ')\n",
    "primerAvisoPorEspacios = primerAvisoPorEspacios.split(' ')\n",
    "\n",
    "for i in range(len(primerAvisoPorEspacios)-1):\n",
    "    for charac in primerAvisoPorEspacios[i]:\n",
    "        if charac.isdigit():\n",
    "            primerAvisoPorEspacios[i] = primerAvisoPorEspacios[i] + ' ' + primerAvisoPorEspacios[i+1]\n",
    "            primerAvisoPorEspacios[i+1] = ''\n",
    "            break\n",
    "\n",
    "primerAvisoPorEspacios = [i for i in primerAvisoPorEspacios if i != '']\n",
    "\n",
    "for key in data.keys():\n",
    "    data[key].append(primerAvisoPorEspacios[0])\n",
    "    primerAvisoPorEspacios.pop(0)\n",
    "\n",
    "\n",
    "df = pd.DataFrame(data, columns= ['barrio', 'direccion', 'precio', 'tipo', 'caracteristicas', 'otros'])\n",
    "print(primerAvisoPorEspacios)\n",
    "print(df)"
   ]
  },
  {
   "cell_type": "markdown",
   "metadata": {},
   "source": [
    "### Carga de la informacion en la base de datos"
   ]
  },
  {
   "cell_type": "code",
   "execution_count": 10,
   "metadata": {},
   "outputs": [
    {
     "name": "stdout",
     "output_type": "stream",
     "text": [
      "    barrio direccion precio    tipo caracteristicas    otros\n",
      "0  P/JUNTA   Colpovn   79 p  1° dio           7 2de  p/escal\n"
     ]
    }
   ],
   "source": [
    "cursor = crearConexion()\n",
    "\n",
    "df.to_sql('alquileres', cursor, if_exists='append', index = False)\n",
    " \n",
    "alquileresDF = sqlQueries.obtenerDfFromQuery(sqlQueries.obtenerAlquileres(), cursor)\n",
    "\n",
    "print(alquileresDF)"
   ]
  }
 ],
 "metadata": {
  "kernelspec": {
   "display_name": "Python 3.10.2 ('.venv': venv)",
   "language": "python",
   "name": "python3"
  },
  "language_info": {
   "name": "python",
   "version": "3.10.2"
  },
  "orig_nbformat": 4,
  "vscode": {
   "interpreter": {
    "hash": "ea1216f2d2d797b8e206e7c52172162f53814f8bdab80911b19da4321715bba6"
   }
  }
 },
 "nbformat": 4,
 "nbformat_minor": 2
}
